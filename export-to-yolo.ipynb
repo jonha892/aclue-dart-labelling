{
 "cells": [
  {
   "cell_type": "code",
   "execution_count": null,
   "id": "38e5fca8-d16a-4d1e-9c1b-e23214aae7af",
   "metadata": {},
   "outputs": [],
   "source": [
    "import json\n",
    "\n",
    "from sklearn.model_selection import train_test_split"
   ]
  },
  {
   "cell_type": "code",
   "execution_count": null,
   "id": "b0d98eef-b8d9-4c39-b6c5-e688b2b79597",
   "metadata": {},
   "outputs": [],
   "source": [
    "!pip3 install -U scikit-learn"
   ]
  },
  {
   "cell_type": "markdown",
   "id": "3caece9e-03ef-49b0-a9d6-8fccd3ee7fce",
   "metadata": {},
   "source": [
    "## A script to format regulat export to one that can be used for ultralistic yolo training"
   ]
  },
  {
   "cell_type": "code",
   "execution_count": null,
   "id": "cbc11585-dd22-46c5-bc4a-ee913a515fdc",
   "metadata": {},
   "outputs": [],
   "source": [
    "label_file = 'data/labels.json'\n",
    "\n",
    "labels = {}\n",
    "with open(label_file, 'r') as f:\n",
    "    labels = json.load(f)\n",
    "    labels = labels['labels']\n",
    "labels"
   ]
  },
  {
   "cell_type": "code",
   "execution_count": null,
   "id": "85669f5e-4687-45d9-a004-1d5a5e58615e",
   "metadata": {},
   "outputs": [],
   "source": [
    "ids = set(map(lambda x: x['series_id'], labels))\n",
    "ids = list(ids)\n",
    "len(ids)"
   ]
  },
  {
   "cell_type": "code",
   "execution_count": null,
   "id": "f08a06e1-1fe9-4081-9b01-45cfbd440814",
   "metadata": {},
   "outputs": [],
   "source": [
    "ratio = 0.2\n",
    "train_ids, val_ids = train_test_split(ids, test_size=ratio)\n",
    "len(train_ids), len(val_ids)"
   ]
  },
  {
   "cell_type": "code",
   "execution_count": null,
   "id": "d7f9079b-28ea-4b43-8882-f016ea1bdf68",
   "metadata": {},
   "outputs": [],
   "source": [
    "from PIL import Image\n",
    "\n",
    "fn = labels[0]['image_path']\n",
    "i = Image.open(fn)\n",
    "width, height = i.size\n",
    "width, height"
   ]
  },
  {
   "cell_type": "code",
   "execution_count": null,
   "id": "b26ebc28-88b4-4e4d-8016-6eecbbc1bb3b",
   "metadata": {},
   "outputs": [],
   "source": [
    "import os\n",
    "import shutil\n",
    "\n",
    "from tqdm.notebook import tqdm\n",
    "\n",
    "classs_mappig = {\n",
    "    'anchor': 0,\n",
    "    'dart': 1\n",
    "}\n",
    "\n",
    "def build_label(box_size, pos_x, pos_y, img_width, img_height):\n",
    "    \"\"\"\n",
    "    https://docs.ultralytics.com/datasets/detect/#ultralytics-yolo-format\n",
    "    \"\"\"\n",
    "    center_x, center_y = pos_x / img_width , pos_y / img_height\n",
    "    width, height = box_size / img_width, box_size / img_height\n",
    "    return center_x, center_y, width, height\n",
    "\n",
    "def get_fn(path):\n",
    "    return path.split('/')[-1]\n",
    "\n",
    "def copy_img(label, out_dir):\n",
    "    img_path = label['image_path']\n",
    "    \n",
    "    out_path = out_dir + '/' + get_fn(img_path)\n",
    "\n",
    "    # Create missing directories if they don't exist\n",
    "    destination_directory = os.path.dirname(out_path)\n",
    "    if not os.path.exists(destination_directory):\n",
    "        os.makedirs(destination_directory)\n",
    "        \n",
    "    shutil.copy(img_path, out_path)\n",
    "\n",
    "def build_label_file(label, out_dir, img_size, box_size=50):\n",
    "    img_fn = get_fn(label['image_path'])\n",
    "    label_fn = '.'.join(img_fn.split('.')[0:-1] ) + '.txt'\n",
    "    out_path = out_dir + '/' + label_fn\n",
    "\n",
    "    img_width, img_height = img_size\n",
    "    annotations = []\n",
    "    for a in label['annotations']:\n",
    "        c = classs_mappig[a['label']]\n",
    "        pos_x, pos_y = a['pos']['x'], a['pos']['y']\n",
    "        left, top, width, height = build_label(box_size, pos_x, pos_y, img_width, img_height)\n",
    "        label_str = f'{c} {left} {top} {width} {height}'\n",
    "        annotations.append(label_str)\n",
    "    with open(out_path, 'w') as f:\n",
    "        content = '\\n'.join(annotations)\n",
    "        f.write(content)\n",
    "        \n",
    "out_dir_base = 'data_yolo'\n",
    "out_dir_train = out_dir_base + '/train'\n",
    "out_dir_val = out_dir_base + '/val'\n",
    "\n",
    "\n",
    "for label in tqdm(labels):\n",
    "    series_id = label['series_id']\n",
    "    is_train = not series_id in val_ids\n",
    "    out_dir = out_dir_train if is_train else out_dir_val\n",
    "\n",
    "    copy_img(label, out_dir)\n",
    "    build_label_file(label, out_dir, (width, height), box_size=70)"
   ]
  },
  {
   "cell_type": "code",
   "execution_count": null,
   "id": "86cad13a-434a-418d-8f09-0f25c7d8cf45",
   "metadata": {},
   "outputs": [],
   "source": []
  }
 ],
 "metadata": {
  "kernelspec": {
   "display_name": "Python 3 (ipykernel)",
   "language": "python",
   "name": "python3"
  },
  "language_info": {
   "codemirror_mode": {
    "name": "ipython",
    "version": 3
   },
   "file_extension": ".py",
   "mimetype": "text/x-python",
   "name": "python",
   "nbconvert_exporter": "python",
   "pygments_lexer": "ipython3",
   "version": "3.11.8"
  }
 },
 "nbformat": 4,
 "nbformat_minor": 5
}
