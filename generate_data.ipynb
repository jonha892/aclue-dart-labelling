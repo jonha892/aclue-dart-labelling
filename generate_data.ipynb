{
 "cells": [
  {
   "cell_type": "code",
   "execution_count": null,
   "id": "d2dd9517",
   "metadata": {},
   "outputs": [],
   "source": [
    "%load_ext autoreload\n",
    "%autoreload 2\n",
    "\n",
    "from IPython.display import display\n",
    "\n",
    "from PIL import Image\n",
    "from src.draw_util import draw_x_at, composite_at"
   ]
  },
  {
   "cell_type": "code",
   "execution_count": null,
   "id": "fc7aa43d",
   "metadata": {},
   "outputs": [],
   "source": [
    "dartboard_filename = 'res/dart_board.png'"
   ]
  },
  {
   "cell_type": "code",
   "execution_count": null,
   "id": "db5e2f23",
   "metadata": {},
   "outputs": [],
   "source": [
    "dartboard_image = Image.open(dartboard_filename)\n",
    "dartboard_image"
   ]
  },
  {
   "cell_type": "code",
   "execution_count": null,
   "id": "534af5c2",
   "metadata": {},
   "outputs": [],
   "source": [
    "width, height = dartboard_image.size\n",
    "print(width, height)\n",
    "left = 450\n",
    "top = 350\n",
    "right = width - 480\n",
    "bottom = height\n",
    "cropped = dartboard_image.crop((left, top, right, bottom))\n",
    "cropped.save('res/dart_board_cropped.png')\n",
    "cropped"
   ]
  },
  {
   "cell_type": "code",
   "execution_count": null,
   "id": "065ac6e5",
   "metadata": {},
   "outputs": [],
   "source": [
    "cropped_with_anchors = cropped.copy()\n",
    "\n",
    "top_anchor = (495, 195)\n",
    "left_anchor = (232, 425)\n",
    "right_anchor = (750, 442)\n",
    "bottom_anchor = (487, 643)\n",
    "\n",
    "cropped_with_anchors = draw_x_at(cropped_with_anchors, top_anchor)\n",
    "cropped_with_anchors = draw_x_at(cropped_with_anchors, left_anchor)\n",
    "cropped_with_anchors = draw_x_at(cropped_with_anchors, right_anchor)\n",
    "cropped_with_anchors = draw_x_at(cropped_with_anchors, bottom_anchor)\n",
    "\n",
    "display(cropped_with_anchors)"
   ]
  },
  {
   "cell_type": "code",
   "execution_count": null,
   "id": "78f05535",
   "metadata": {},
   "outputs": [],
   "source": [
    "# draw dart on background board\n",
    "dart_1 = Image.open('res/darts/dart_1.png')\n",
    "composite = composite_at(cropped, dart_1, (300, 200))\n",
    "composite.convert('RGB')"
   ]
  },
  {
   "cell_type": "code",
   "execution_count": null,
   "id": "c4cb3895",
   "metadata": {},
   "outputs": [],
   "source": [
    "def dart_position_in_cropped(pasted_at_pos, dart_top_pos):\n",
    "    return (pasted_at_pos[0] + dart_top_pos[0], pasted_at_pos[1] + dart_top_pos[1])\n",
    "\n",
    "def dart_position_in_original(cropped_at_pos, pasted_at_pos, dart_top_pos):\n",
    "    return (cropped_at_pos[0] + pasted_at_pos[0] + dart_top_pos[0], cropped_at_pos[1] + pasted_at_pos[1] + dart_top_pos[1])"
   ]
  },
  {
   "cell_type": "code",
   "execution_count": null,
   "id": "d804ff5f",
   "metadata": {},
   "outputs": [],
   "source": [
    "center = (490, 432)\n",
    "center_x = draw_x_at(cropped, center)\n",
    "center_x"
   ]
  },
  {
   "cell_type": "code",
   "execution_count": null,
   "id": "bf2bc9b8",
   "metadata": {},
   "outputs": [],
   "source": [
    "\n",
    "###\n",
    "### Generate Config\n",
    "###\n",
    "from src.data_generation import DataGenerationConfig\n",
    "\n",
    "\n",
    "config: [DataGenerationConfig] = [\n",
    "    #DataGenerationConfig(5, ({'type': 'random'}, {'type': 'random'}, {'type': 'random'})),\n",
    "]\n",
    "\n",
    "# two darts close\n",
    "\"\"\"\n",
    "\n",
    "for angle in range(0, 360, 45):\n",
    "    for selection_radius_abs in [40]:\n",
    "        for radius_relativ in [x / 10 for x in range(0, 11, 2)]:\n",
    "            config.append(DataGenerationConfig(1, (\n",
    "                {'type': 'radius', 'radius': radius_relativ, 'selection_radius_abs': selection_radius_abs, 'angle': angle},\n",
    "                {'type': 'radius', 'radius': radius_relativ, 'selection_radius_abs': selection_radius_abs, 'angle': angle},\n",
    "                {'type': 'random'}\n",
    "            )))\n",
    "\n",
    "\"\"\"\n",
    "# three darts close\n",
    "config.append(DataGenerationConfig(1, (\n",
    "    {'type': 'radius', 'radius': 0, 'selection_radius_abs': 20, 'angle': 0},\n",
    "    {'type': 'radius', 'radius': 0, 'selection_radius_abs': 20, 'angle': 0},\n",
    "    {'type': 'radius', 'radius': 0, 'selection_radius_abs': 20, 'angle': 0},\n",
    ")))\n",
    "for angle in range(0, 360, 45):\n",
    "    for selection_radius_abs in [30]:\n",
    "        for radius_relativ in [x / 10 for x in range(3, 11, 3)]:\n",
    "            config.append(DataGenerationConfig(1, (\n",
    "                {'type': 'radius', 'radius': radius_relativ, 'selection_radius_abs': selection_radius_abs, 'angle': angle},\n",
    "                {'type': 'radius', 'radius': radius_relativ, 'selection_radius_abs': selection_radius_abs, 'angle': angle},\n",
    "                {'type': 'radius', 'radius': radius_relativ, 'selection_radius_abs': selection_radius_abs, 'angle': angle},\n",
    "            )))\n",
    "#config"
   ]
  },
  {
   "cell_type": "code",
   "execution_count": null,
   "id": "bdf04884",
   "metadata": {},
   "outputs": [],
   "source": [
    "###\n",
    "### Dart Config\n",
    "###\n",
    "import json\n",
    "\n",
    "from src.data_generation import DartConfig\n",
    "\n",
    "dart_config: DartConfig = []\n",
    "\n",
    "darts_config_file = 'darts.json'\n",
    "with open(darts_config_file) as f:\n",
    "    darts = json.load(f)\n",
    "\n",
    "for id_, details in darts.items():\n",
    "    print(f\"dart id {id_} with {len(details)} images\")\n",
    "    dart_lst = []\n",
    "    for i in details:\n",
    "        img = Image.open(i['path'])\n",
    "        dart_lst.append((img, i['pos']))\n",
    "    dart_config.append(DartConfig(id_, dart_lst))"
   ]
  },
  {
   "cell_type": "code",
   "execution_count": null,
   "id": "dce1fd0a",
   "metadata": {},
   "outputs": [],
   "source": [
    "from src.data_generation import DataGenerator, Position, PositionGenerator\n",
    "\n",
    "center_pos = Position(center[0], center[1])\n",
    "top_anchor_pos = Position(top_anchor[0], top_anchor[1])\n",
    "left_anchor_pos = Position(left_anchor[0], left_anchor[1])\n",
    "right_anchor_pos = Position(right_anchor[0], right_anchor[1])\n",
    "bottom_anchor_pos = Position(bottom_anchor[0], bottom_anchor[1])\n",
    "\n",
    "position_generator = PositionGenerator(\n",
    "    center=center_pos,\n",
    "    anchor_top=top_anchor_pos,\n",
    "    anchor_left=left_anchor_pos,\n",
    "    anchor_right=right_anchor_pos,\n",
    "    anchor_bottom=bottom_anchor_pos,\n",
    ")\n",
    "\n",
    "data_generator = DataGenerator(\n",
    "    anchor_top=top_anchor_pos,\n",
    "    anchor_left=left_anchor_pos,\n",
    "    anchor_right=right_anchor_pos,\n",
    "    anchor_bottom=bottom_anchor_pos,\n",
    "    position_generator=position_generator\n",
    ")\n",
    "\n",
    "labels = data_generator.generate(config, dart_config, cropped, 'data/refactored')"
   ]
  },
  {
   "cell_type": "code",
   "execution_count": null,
   "id": "6ab4e8f9",
   "metadata": {},
   "outputs": [],
   "source": []
  }
 ],
 "metadata": {
  "kernelspec": {
   "display_name": "Python 3 (ipykernel)",
   "language": "python",
   "name": "python3"
  },
  "language_info": {
   "codemirror_mode": {
    "name": "ipython",
    "version": 3
   },
   "file_extension": ".py",
   "mimetype": "text/x-python",
   "name": "python",
   "nbconvert_exporter": "python",
   "pygments_lexer": "ipython3",
   "version": "3.11.6"
  }
 },
 "nbformat": 4,
 "nbformat_minor": 5
}
