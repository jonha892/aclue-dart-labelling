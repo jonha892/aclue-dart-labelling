{
 "cells": [
  {
   "cell_type": "code",
   "execution_count": null,
   "metadata": {},
   "outputs": [],
   "source": [
    "from collections import defaultdict\n",
    "\n",
    "from PIL import Image\n",
    "from src.draw_util import draw_x_at"
   ]
  },
  {
   "cell_type": "code",
   "execution_count": null,
   "metadata": {},
   "outputs": [],
   "source": [
    "base_path = 'res/darts/'\n",
    "darts = defaultdict(list)"
   ]
  },
  {
   "cell_type": "code",
   "execution_count": null,
   "metadata": {},
   "outputs": [],
   "source": [
    "dart_id = 'red'\n",
    "\n",
    "path = base_path + 'dart_1.png'\n",
    "dart_1 = Image.open(path)\n",
    "\n",
    "pos_1 = (111, 19)\n",
    "darts[dart_id] += [{'path': path, 'pos': pos_1}]\n",
    "draw_x_at(dart_1, pos_1, color='green').convert('RGB')"
   ]
  },
  {
   "cell_type": "code",
   "execution_count": null,
   "metadata": {},
   "outputs": [],
   "source": [
    "path = base_path + 'dart_2.png'\n",
    "dart_2 = Image.open(path)\n",
    "\n",
    "pos_2 = (97, 39)\n",
    "darts[dart_id] += [{'path': path, 'pos': pos_2}]\n",
    "draw_x_at(dart_2, pos_2, color='green').convert('RGB')"
   ]
  },
  {
   "cell_type": "code",
   "execution_count": null,
   "metadata": {},
   "outputs": [],
   "source": [
    "path = base_path + 'dart_3.png'\n",
    "dart_3 = Image.open(path)\n",
    "\n",
    "pos_3 = (40, 28)\n",
    "darts[dart_id] += [{'path': path, 'pos': pos_3}]\n",
    "draw_x_at(dart_3, pos_3, color='green').convert('RGB')"
   ]
  },
  {
   "cell_type": "code",
   "execution_count": null,
   "metadata": {},
   "outputs": [],
   "source": [
    "dart_id = 'p'\n",
    "path = base_path + 'p_1_1.png'\n",
    "p_1_1 = Image.open(path)\n",
    "\n",
    "pos_p_1_1 = (27, 0)\n",
    "darts[dart_id] += [{'path': path, 'pos': pos_p_1_1}]\n",
    "draw_x_at(p_1_1, pos_p_1_1, color='green').convert('RGB')"
   ]
  },
  {
   "cell_type": "code",
   "execution_count": null,
   "metadata": {},
   "outputs": [],
   "source": [
    "path = base_path + 'p_1_2.png'\n",
    "p_1_2 = Image.open(path)\n",
    "\n",
    "pos_p_1_2 = (26, 0)\n",
    "darts[dart_id] += [{'path': path, 'pos': pos_p_1_2}]\n",
    "draw_x_at(p_1_2, pos_p_1_2, color='green').convert('RGB')"
   ]
  },
  {
   "cell_type": "code",
   "execution_count": null,
   "metadata": {},
   "outputs": [],
   "source": [
    "path = base_path + 'p_1_3.png'\n",
    "p_1_3 = Image.open(path)\n",
    "\n",
    "pos_p_1_3 = (34, 0)\n",
    "darts[dart_id] += [{'path': path, 'pos': pos_p_1_3}]\n",
    "draw_x_at(p_1_3, pos_p_1_3, color='green').convert('RGB')"
   ]
  },
  {
   "cell_type": "code",
   "execution_count": null,
   "metadata": {},
   "outputs": [],
   "source": [
    "path = base_path + 'p_2_1.png'\n",
    "p_2_1 = Image.open(path)\n",
    "\n",
    "pos_p_2_1 = (45, 0)\n",
    "darts[dart_id] += [{'path': path, 'pos': pos_p_2_1}]\n",
    "draw_x_at(p_2_1, pos_p_2_1, color='green').convert('RGB')"
   ]
  },
  {
   "cell_type": "code",
   "execution_count": null,
   "metadata": {},
   "outputs": [],
   "source": [
    "path = base_path + 'p_2_2.png'\n",
    "p_2_2 = Image.open(path)\n",
    "\n",
    "pos_p_2_2 = (25, 0)\n",
    "darts[dart_id] += [{'path': path, 'pos': pos_p_2_2}]\n",
    "draw_x_at(p_2_2, pos_p_2_2, color='green').convert('RGB')"
   ]
  },
  {
   "cell_type": "code",
   "execution_count": null,
   "metadata": {},
   "outputs": [],
   "source": [
    "path = base_path + 'p_2_3.png'\n",
    "p_2_3 = Image.open(path)\n",
    "\n",
    "pos_p_2_3 = (33, 0)\n",
    "darts[dart_id] += [{'path': path, 'pos': pos_p_2_3}]\n",
    "draw_x_at(p_2_3, pos_p_2_3, color='green').convert('RGB')"
   ]
  },
  {
   "cell_type": "code",
   "execution_count": null,
   "metadata": {},
   "outputs": [],
   "source": [
    "path = base_path + 'p_3_1.png'\n",
    "p_3_1 = Image.open(path)\n",
    "\n",
    "pos_p_3_1 = (18, 0)\n",
    "darts[dart_id] += [{'path': path, 'pos': pos_p_3_1}]\n",
    "draw_x_at(p_3_1, pos_p_3_1, color='green').convert('RGB')"
   ]
  },
  {
   "cell_type": "code",
   "execution_count": null,
   "metadata": {},
   "outputs": [],
   "source": [
    "path = base_path + 'p_3_2.png'\n",
    "p_3_2 = Image.open(path)\n",
    "\n",
    "pos_p_3_2 = (12, 0)\n",
    "darts[dart_id] += [{'path': path, 'pos': pos_p_3_2}]\n",
    "draw_x_at(p_3_2, pos_p_3_2, color='green').convert('RGB')"
   ]
  },
  {
   "cell_type": "code",
   "execution_count": null,
   "metadata": {},
   "outputs": [],
   "source": [
    "path = base_path + 'p_3_3.png'\n",
    "p_3_3 = Image.open(path)\n",
    "\n",
    "pos_p_3_3 = (52, 0)\n",
    "darts[dart_id] += [{'path': path, 'pos': pos_p_3_3}]\n",
    "draw_x_at(p_3_3, pos_p_3_3, color='green').convert('RGB')"
   ]
  },
  {
   "cell_type": "code",
   "execution_count": null,
   "metadata": {},
   "outputs": [],
   "source": [
    "dart_id = 'j'\n",
    "path = base_path + 'j_1_1.png'\n",
    "j_1_1 = Image.open(path)\n",
    "\n",
    "pos_j_1_1 = (42, 0)\n",
    "darts[dart_id] += [{'path': path, 'pos': pos_j_1_1}]\n",
    "draw_x_at(j_1_1, pos_j_1_1, color='green').convert('RGB')"
   ]
  },
  {
   "cell_type": "code",
   "execution_count": null,
   "metadata": {},
   "outputs": [],
   "source": [
    "path = base_path + 'j_1_2.png'\n",
    "j_1_2 = Image.open(path)\n",
    "\n",
    "pos_j_1_2 = (9, 0)\n",
    "darts[dart_id] += [{'path': path, 'pos': pos_j_1_2}]\n",
    "draw_x_at(j_1_2, pos_j_1_2, color='green').convert('RGB')"
   ]
  },
  {
   "cell_type": "code",
   "execution_count": null,
   "metadata": {},
   "outputs": [],
   "source": [
    "path = base_path + 'j_1_3.png'\n",
    "j_1_3 = Image.open(path)\n",
    "\n",
    "pos_j_1_3 = (52, 2)\n",
    "darts[dart_id] += [{'path': path, 'pos': pos_j_1_3}]\n",
    "draw_x_at(j_1_3, pos_j_1_3, color='green').convert('RGB')"
   ]
  },
  {
   "cell_type": "code",
   "execution_count": null,
   "metadata": {},
   "outputs": [],
   "source": [
    "path = base_path + 'j_2_1.png'\n",
    "j_2_1 = Image.open(path)\n",
    "\n",
    "pos_j_2_1 = (32, 6)\n",
    "darts[dart_id] += [{'path': path, 'pos': pos_j_2_1}]\n",
    "draw_x_at(j_2_1, pos_j_2_1, color='green').convert('RGB')"
   ]
  },
  {
   "cell_type": "code",
   "execution_count": null,
   "metadata": {},
   "outputs": [],
   "source": [
    "path = base_path + 'j_2_2.png'\n",
    "j_2_2 = Image.open(path)\n",
    "\n",
    "pos_j_2_2 = (13, 0)\n",
    "darts[dart_id] += [{'path': path, 'pos': pos_j_2_2}]\n",
    "draw_x_at(j_2_2, pos_j_2_2, color='green').convert('RGB')"
   ]
  },
  {
   "cell_type": "code",
   "execution_count": null,
   "metadata": {},
   "outputs": [],
   "source": [
    "path = base_path + 'j_2_3.png'\n",
    "j_2_3 = Image.open(path)\n",
    "\n",
    "pos_j_2_3 = (22, 6)\n",
    "darts[dart_id] += [{'path': path, 'pos': pos_j_2_3}]\n",
    "draw_x_at(j_2_3, pos_j_2_3, color='green').convert('RGB')"
   ]
  },
  {
   "cell_type": "code",
   "execution_count": null,
   "metadata": {},
   "outputs": [],
   "source": [
    "path = base_path + 'j_3_1.png'\n",
    "j_3_1 = Image.open(path)\n",
    "\n",
    "pos_j_3_1 = (25, 2)\n",
    "darts[dart_id] += [{'path': path, 'pos': pos_j_3_1}]\n",
    "draw_x_at(j_3_1, pos_j_3_1, color='green').convert('RGB')"
   ]
  },
  {
   "cell_type": "code",
   "execution_count": null,
   "metadata": {},
   "outputs": [],
   "source": [
    "path = base_path + 'j_3_2.png'\n",
    "j_3_2 = Image.open(path)\n",
    "\n",
    "pos_j_3_2 = (35, 0)\n",
    "darts[dart_id] += [{'path': path, 'pos': pos_j_3_2}]\n",
    "draw_x_at(j_3_2, pos_j_3_2, color='green').convert('RGB')"
   ]
  },
  {
   "cell_type": "code",
   "execution_count": null,
   "metadata": {},
   "outputs": [],
   "source": [
    "path = base_path + 'j_3_3.png'\n",
    "j_3_3 = Image.open(path)\n",
    "\n",
    "pos_j_3_3 = (38, 7)\n",
    "darts[dart_id] += [{'path': path, 'pos': pos_j_3_3}]\n",
    "draw_x_at(j_3_3, pos_j_3_3, color='green').convert('RGB')"
   ]
  },
  {
   "cell_type": "code",
   "execution_count": null,
   "metadata": {},
   "outputs": [],
   "source": [
    "import json\n",
    "\n",
    "with open('darts.json', 'w') as f:\n",
    "    json.dump(darts, f, indent=4, sort_keys=True)"
   ]
  },
  {
   "cell_type": "code",
   "execution_count": null,
   "metadata": {},
   "outputs": [],
   "source": []
  }
 ],
 "metadata": {
  "kernelspec": {
   "display_name": "env",
   "language": "python",
   "name": "python3"
  },
  "language_info": {
   "codemirror_mode": {
    "name": "ipython",
    "version": 3
   },
   "file_extension": ".py",
   "mimetype": "text/x-python",
   "name": "python",
   "nbconvert_exporter": "python",
   "pygments_lexer": "ipython3",
   "version": "3.11.6"
  }
 },
 "nbformat": 4,
 "nbformat_minor": 2
}
